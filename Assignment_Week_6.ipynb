{
  "nbformat": 4,
  "nbformat_minor": 0,
  "metadata": {
    "colab": {
      "name": "Copy of Assignment Week 6.ipynb",
      "provenance": [],
      "include_colab_link": true
    },
    "kernelspec": {
      "name": "python3",
      "display_name": "Python 3"
    }
  },
  "cells": [
    {
      "cell_type": "markdown",
      "metadata": {
        "id": "view-in-github",
        "colab_type": "text"
      },
      "source": [
        "<a href=\"https://colab.research.google.com/github/FNeffati/Fehmi/blob/master/Assignment_Week_6.ipynb\" target=\"_parent\"><img src=\"https://colab.research.google.com/assets/colab-badge.svg\" alt=\"Open In Colab\"/></a>"
      ]
    },
    {
      "cell_type": "markdown",
      "metadata": {
        "id": "OmbYt8lDcUhp"
      },
      "source": [
        "# WEEK 6 ASSIGNMENT : Introduction to Lists\n",
        "\n",
        "----------------\n",
        "\n",
        "Due to the exam, the assignment this week is a bit shorter than ussual. \n",
        "\n",
        "You are encouraged to create a new blank workbook for your solutions. You should then save your solutions into GitHub.\n",
        "\n",
        "**0)** \n",
        "\n",
        "\n",
        "**1)** Create a program that starts with an empty list and then uses a while loop to repeatedly ask the user to enter the name of a food. The program should add each food to the list. The program should stop when the user enters \"stop\".\n",
        "\n",
        "Note: There is an example similar to this in the worksheet.\n",
        "\n",
        "**2)** Use the list that you created in Problem 2. Write additional Python instructions that ask the user to enter a food to delete from the list. You should then delete the requested food from the list and print the list.\n",
        "\n",
        "**3)** Use the list that you created in Problem 2. Write a loop that goes through every element of the list checks whether the food is \"olives\" (or \"olive\") and prints out the food name provided that it is not \"olives\". (I despise \"olives\", wouldn't want to print out that stuff!)\n",
        "\n",
        "To test out your program, you may need to re-run the code from Problem 2 to create a list that contains \"olives\" so you can verify that your code for Problem 4 correctly omits \"olives\" when printing the list.  \n"
      ]
    },
    {
      "cell_type": "code",
      "metadata": {
        "id": "2qFkrJrxOKS3",
        "outputId": "fbf3246f-8031-407b-f569-359a9ea3d182",
        "colab": {
          "base_uri": "https://localhost:8080/",
          "height": 50
        }
      },
      "source": [
        "#Create a list that contains \"Hello\" and \"World\". Write a program that prints out this list. \n",
        "\n",
        "ls = [\"Hello\", \"World\"]\n",
        "for i in ls:\n",
        "  print(i)\n"
      ],
      "execution_count": 16,
      "outputs": [
        {
          "output_type": "stream",
          "text": [
            "Hello\n",
            "World\n"
          ],
          "name": "stdout"
        }
      ]
    },
    {
      "cell_type": "code",
      "metadata": {
        "id": "4a04Ny8LaO0w",
        "outputId": "e3a98759-9c3d-428d-ce00-22957b649652",
        "colab": {
          "base_uri": "https://localhost:8080/",
          "height": 66
        }
      },
      "source": [
        "#Use the list that you created in Problem 2. Write additional Python instructions that ask the user to enter a food to delete from the list. You should then delete the requested food from the list and print the list.\n",
        "ls = []\n",
        "thing = input(\"Please enter a name of a food (write stop when done): \")\n",
        "while thing != \"stop\":\n",
        "  ls.append(thing)\n",
        "  thing = input(\"Please enter a name of a food: (write stop when done)\")\n",
        "\n",
        "print(ls)"
      ],
      "execution_count": 24,
      "outputs": [
        {
          "output_type": "stream",
          "text": [
            "Please enter a name of a food (write stop when done): milk\n",
            "Please enter a name of a food: (write stop when done)stop\n",
            "['milk']\n"
          ],
          "name": "stdout"
        }
      ]
    },
    {
      "cell_type": "code",
      "metadata": {
        "id": "WA3suuXPvJYD",
        "outputId": "b63c82e8-f5e6-400b-d5ed-ec907b068bc6",
        "colab": {
          "base_uri": "https://localhost:8080/",
          "height": 147
        }
      },
      "source": [
        "#Use the list that you created in Problem 2. Write additional Python instructions that ask the user to enter a food to delete from the list. You should then delete the requested food from the list and print the list.\n",
        "ls = []\n",
        "thing = input(\"Please enter a name of a food (write stop when done): \")\n",
        "while thing != \"stop\":\n",
        "  ls.append(thing)\n",
        "  thing = input(\"Please enter a name of a food: (write stop when done)\")\n",
        "\n",
        "print(ls)\n",
        "\n",
        "take_out = input(\"Enter the name of any item you wish to remove (write stop when done): \")\n",
        "while take_out != \"stop\":\n",
        "  ls.remove(take_out)\n",
        "  take_out = input(\"Enter the name of any item you wish to remove (write stop when done): \")\n",
        "print(ls)\n"
      ],
      "execution_count": 32,
      "outputs": [
        {
          "output_type": "stream",
          "text": [
            "Please enter a name of a food (write stop when done): milk\n",
            "Please enter a name of a food: (write stop when done)sugar\n",
            "Please enter a name of a food: (write stop when done)dada\n",
            "Please enter a name of a food: (write stop when done)stop\n",
            "['milk', 'sugar', 'dada']\n",
            "Enter the name of any item you wish to remove (write stop when done): dada\n",
            "Enter the name of any item you wish to remove (write stop when done): stop\n",
            "['milk', 'sugar']\n"
          ],
          "name": "stdout"
        }
      ]
    },
    {
      "cell_type": "code",
      "metadata": {
        "id": "G4A0cy8Px1Kq",
        "outputId": "1992fe09-f450-4c31-808a-be092446fcfc",
        "colab": {
          "base_uri": "https://localhost:8080/",
          "height": 163
        }
      },
      "source": [
        "# Use the list that you created in Problem 2. Write a loop that goes through every element of the list checks whether the food is \"olives\" (or \"olive\") and prints out the food name provided that it is not \"olives\". (I despise \"olives\", wouldn't want to print out that stuff!)\n",
        "\n",
        "ls = []\n",
        "thing = input(\"Please enter a name of a food (write stop when done): \")\n",
        "while thing != \"stop\":\n",
        "  ls.append(thing)\n",
        "  thing = input(\"Please enter a name of a food: (write stop when done)\")\n",
        "\n",
        "print(ls)\n",
        "\n",
        "for item in ls:\n",
        "  if item == \"olive\" or \"olives\":\n",
        "    ls.remove(item)\n",
        "\n",
        "print(ls)"
      ],
      "execution_count": 33,
      "outputs": [
        {
          "output_type": "stream",
          "text": [
            "Please enter a name of a food (write stop when done): olive\n",
            "Please enter a name of a food: (write stop when done)jus\n",
            "Please enter a name of a food: (write stop when done)milk\n",
            "Please enter a name of a food: (write stop when done)almonds\n",
            "Please enter a name of a food: (write stop when done)olives\n",
            "Please enter a name of a food: (write stop when done)cake\n",
            "Please enter a name of a food: (write stop when done)stop\n",
            "['olive', 'jus', 'milk', 'almonds', 'olives', 'cake']\n",
            "['jus', 'almonds', 'cake']\n"
          ],
          "name": "stdout"
        }
      ]
    }
  ]
}