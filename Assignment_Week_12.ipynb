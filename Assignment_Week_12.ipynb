{
  "nbformat": 4,
  "nbformat_minor": 0,
  "metadata": {
    "colab": {
      "name": "Copy of Assignment Week 12.ipynb",
      "provenance": [],
      "include_colab_link": true
    },
    "kernelspec": {
      "name": "python3",
      "display_name": "Python 3"
    }
  },
  "cells": [
    {
      "cell_type": "markdown",
      "metadata": {
        "id": "view-in-github",
        "colab_type": "text"
      },
      "source": [
        "<a href=\"https://colab.research.google.com/github/FNeffati/Fehmi/blob/master/Assignment_Week_12.ipynb\" target=\"_parent\"><img src=\"https://colab.research.google.com/assets/colab-badge.svg\" alt=\"Open In Colab\"/></a>"
      ]
    },
    {
      "cell_type": "markdown",
      "metadata": {
        "id": "BsOHbOwEl2_2"
      },
      "source": [
        "**FUN WITH SPREADSHEET DATA**\n",
        "\n",
        "In the worksheet this week, we had a bunch of examples of working with spreadsheet data in an external file. In the assignment, we will build on the examples in the Worksheet.\n",
        "\n",
        "You can find the worksheet here: https://github.com/mlepinski/Python-Worksheets/blob/master/Week_12_Worksheet.ipynb\n",
        "\n",
        "For these problems you should use the state data file in my GitHub repository. https://raw.githubusercontent.com/mlepinski/Python-Worksheets/master/states.csv"
      ]
    },
    {
      "cell_type": "code",
      "metadata": {
        "id": "Ukfid6sElx_n",
        "colab": {
          "base_uri": "https://localhost:8080/",
          "height": 191
        },
        "outputId": "183d234f-1889-47e2-b283-3dcdbf937c29"
      },
      "source": [
        "import pandas\n",
        "\n",
        "file_name = \"https://raw.githubusercontent.com/mlepinski/Python-Worksheets/master/states.csv\"\n",
        "state_data = pandas.read_csv(file_name)\n",
        "\n",
        "state_data.head()"
      ],
      "execution_count": 1,
      "outputs": [
        {
          "output_type": "execute_result",
          "data": {
            "text/html": [
              "<div>\n",
              "<style scoped>\n",
              "    .dataframe tbody tr th:only-of-type {\n",
              "        vertical-align: middle;\n",
              "    }\n",
              "\n",
              "    .dataframe tbody tr th {\n",
              "        vertical-align: top;\n",
              "    }\n",
              "\n",
              "    .dataframe thead th {\n",
              "        text-align: right;\n",
              "    }\n",
              "</style>\n",
              "<table border=\"1\" class=\"dataframe\">\n",
              "  <thead>\n",
              "    <tr style=\"text-align: right;\">\n",
              "      <th></th>\n",
              "      <th>Name</th>\n",
              "      <th>State</th>\n",
              "      <th>Area</th>\n",
              "      <th>Pop</th>\n",
              "    </tr>\n",
              "  </thead>\n",
              "  <tbody>\n",
              "    <tr>\n",
              "      <th>0</th>\n",
              "      <td>Alabama</td>\n",
              "      <td>AL</td>\n",
              "      <td>52423</td>\n",
              "      <td>4040587</td>\n",
              "    </tr>\n",
              "    <tr>\n",
              "      <th>1</th>\n",
              "      <td>Alaska</td>\n",
              "      <td>AK</td>\n",
              "      <td>656424</td>\n",
              "      <td>550043</td>\n",
              "    </tr>\n",
              "    <tr>\n",
              "      <th>2</th>\n",
              "      <td>Arizona</td>\n",
              "      <td>AZ</td>\n",
              "      <td>114006</td>\n",
              "      <td>3665228</td>\n",
              "    </tr>\n",
              "    <tr>\n",
              "      <th>3</th>\n",
              "      <td>Arkansas</td>\n",
              "      <td>AR</td>\n",
              "      <td>53182</td>\n",
              "      <td>2350725</td>\n",
              "    </tr>\n",
              "    <tr>\n",
              "      <th>4</th>\n",
              "      <td>California</td>\n",
              "      <td>CA</td>\n",
              "      <td>163707</td>\n",
              "      <td>29769021</td>\n",
              "    </tr>\n",
              "  </tbody>\n",
              "</table>\n",
              "</div>"
            ],
            "text/plain": [
              "         Name State    Area       Pop\n",
              "0     Alabama    AL   52423   4040587\n",
              "1      Alaska    AK  656424    550043\n",
              "2     Arizona    AZ  114006   3665228\n",
              "3    Arkansas    AR   53182   2350725\n",
              "4  California    CA  163707  29769021"
            ]
          },
          "metadata": {
            "tags": []
          },
          "execution_count": 1
        }
      ]
    },
    {
      "cell_type": "markdown",
      "metadata": {
        "id": "r4g_dchAm6XT"
      },
      "source": [
        "1) The median is the middle value of a set of numbers. (https://en.wikipedia.org/wiki/Median) \n",
        "\n",
        "Write Python code to find the Median population of a state. Since the state data includes the District of Columbia, the median would be the state with the  26th highest population.\n",
        "\n",
        "2) Write Python code to figure out how many state names start with the letter \"M\". \n",
        "\n",
        "Recall that if you have a string, you can get the first letter of the string by using **[0]**. For example, if **name** is a string, then **name[0]** is the first letter of the string\n",
        "\n",
        "3) Population density is the number of people divided by the amount of area. Write Python code that adds a column to the state data that lists the population density of the state. \n",
        "\n",
        "Note: You can print out the **head()** of the data table to make sure this worked.\n",
        "\n",
        "4) Write Python code to figure out which state has the largest population density? the least population density? the median population density?"
      ]
    },
    {
      "cell_type": "code",
      "metadata": {
        "colab": {
          "base_uri": "https://localhost:8080/",
          "height": 272
        },
        "id": "6z1nbOHXpKZH",
        "outputId": "dc4a7008-8f04-4fc8-ffcd-18945d2cbe53"
      },
      "source": [
        "## Question 1:\n",
        "\n",
        "import pandas\n",
        "\n",
        "\n",
        "file_name = \"https://raw.githubusercontent.com/mlepinski/Python-Worksheets/master/states.csv\"\n",
        "state_data = pandas.read_csv(file_name)\n",
        "\n",
        "all = list(state_data[\"Pop\"])\n",
        "all.sort()\n",
        "print(all[26])\n",
        "\n",
        "\n",
        "##Question 2:\n",
        "\n",
        "counter = 0\n",
        "for (row_num, row)  in state_data.iterrows():\n",
        "  if row[\"Name\"][0] == \"M\":\n",
        "    counter += 1\n",
        "\n",
        "print(counter)\n",
        "\n",
        "##Question 3 mixed with question 4:\n",
        "\n",
        "state_data[\"Density\"] = state_data[\"Pop\"] / state_data[\"Area\"]\n",
        "\n",
        "min_den = state_data[\"Density\"].min()\n",
        "mean_den = state_data[\"Density\"].mean()\n",
        "max_den = state_data[\"Density\"].max()\n",
        "\n",
        "print(\"The min density is \" + str(min_den))\n",
        "print(\"The mean desity is \" + str(mean_den))\n",
        "print(\"The max density is \" + str(max_den))\n",
        "\n",
        "\n",
        "state_data.head()\n",
        "\n",
        "\n",
        "\n",
        "\n"
      ],
      "execution_count": 51,
      "outputs": [
        {
          "output_type": "stream",
          "text": [
            "3468703\n",
            "8\n",
            "The min density is 0.8379385884733038\n",
            "The mean desity is 312.12671990671987\n",
            "The max density is 8925.0\n"
          ],
          "name": "stdout"
        },
        {
          "output_type": "execute_result",
          "data": {
            "text/html": [
              "<div>\n",
              "<style scoped>\n",
              "    .dataframe tbody tr th:only-of-type {\n",
              "        vertical-align: middle;\n",
              "    }\n",
              "\n",
              "    .dataframe tbody tr th {\n",
              "        vertical-align: top;\n",
              "    }\n",
              "\n",
              "    .dataframe thead th {\n",
              "        text-align: right;\n",
              "    }\n",
              "</style>\n",
              "<table border=\"1\" class=\"dataframe\">\n",
              "  <thead>\n",
              "    <tr style=\"text-align: right;\">\n",
              "      <th></th>\n",
              "      <th>Name</th>\n",
              "      <th>State</th>\n",
              "      <th>Area</th>\n",
              "      <th>Pop</th>\n",
              "      <th>Density</th>\n",
              "    </tr>\n",
              "  </thead>\n",
              "  <tbody>\n",
              "    <tr>\n",
              "      <th>0</th>\n",
              "      <td>Alabama</td>\n",
              "      <td>AL</td>\n",
              "      <td>52423</td>\n",
              "      <td>4040587</td>\n",
              "      <td>77.076608</td>\n",
              "    </tr>\n",
              "    <tr>\n",
              "      <th>1</th>\n",
              "      <td>Alaska</td>\n",
              "      <td>AK</td>\n",
              "      <td>656424</td>\n",
              "      <td>550043</td>\n",
              "      <td>0.837939</td>\n",
              "    </tr>\n",
              "    <tr>\n",
              "      <th>2</th>\n",
              "      <td>Arizona</td>\n",
              "      <td>AZ</td>\n",
              "      <td>114006</td>\n",
              "      <td>3665228</td>\n",
              "      <td>32.149431</td>\n",
              "    </tr>\n",
              "    <tr>\n",
              "      <th>3</th>\n",
              "      <td>Arkansas</td>\n",
              "      <td>AR</td>\n",
              "      <td>53182</td>\n",
              "      <td>2350725</td>\n",
              "      <td>44.201516</td>\n",
              "    </tr>\n",
              "    <tr>\n",
              "      <th>4</th>\n",
              "      <td>California</td>\n",
              "      <td>CA</td>\n",
              "      <td>163707</td>\n",
              "      <td>29769021</td>\n",
              "      <td>181.843299</td>\n",
              "    </tr>\n",
              "  </tbody>\n",
              "</table>\n",
              "</div>"
            ],
            "text/plain": [
              "         Name State    Area       Pop     Density\n",
              "0     Alabama    AL   52423   4040587   77.076608\n",
              "1      Alaska    AK  656424    550043    0.837939\n",
              "2     Arizona    AZ  114006   3665228   32.149431\n",
              "3    Arkansas    AR   53182   2350725   44.201516\n",
              "4  California    CA  163707  29769021  181.843299"
            ]
          },
          "metadata": {
            "tags": []
          },
          "execution_count": 51
        }
      ]
    }
  ]
}