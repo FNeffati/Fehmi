{
  "nbformat": 4,
  "nbformat_minor": 0,
  "metadata": {
    "colab": {
      "name": "Copy of Assignment Week 4.ipynb",
      "provenance": [],
      "include_colab_link": true
    },
    "kernelspec": {
      "name": "python3",
      "display_name": "Python 3"
    }
  },
  "cells": [
    {
      "cell_type": "markdown",
      "metadata": {
        "id": "view-in-github",
        "colab_type": "text"
      },
      "source": [
        "<a href=\"https://colab.research.google.com/github/FNeffati/Fehmi/blob/master/Assignment_Week_4.ipynb\" target=\"_parent\"><img src=\"https://colab.research.google.com/assets/colab-badge.svg\" alt=\"Open In Colab\"/></a>"
      ]
    },
    {
      "cell_type": "markdown",
      "metadata": {
        "id": "ps76LskfTCG-",
        "colab_type": "text"
      },
      "source": [
        "# WEEK 4 ASSIGNMENT : Functions\n",
        "\n",
        "----------------\n",
        "\n",
        "**0)** Define (def) a Python Function that takes no input and prints \"Hello World\"\n",
        "\n",
        "**1)** Define a Python Function that prints a message of your choice five times in a row. Please do this by putting a loop inside your function. \n",
        "\n",
        "**2)** Modify your function from the previous question so that it takes a number as input which tells the function how many times to print the message. That is, you should make your function more flexible by replacing the fixed number 5 with an input that determines how many times the message is printed. \n",
        "\n",
        "**3)** Define a function called square that takes in a number and returns the square of that number. Recall that the square of a number is just the number times itself. \n",
        "\n",
        "If you have done number (3) correctly, the following Python code should print 9 and 25.\n",
        "\n"
      ]
    },
    {
      "cell_type": "code",
      "metadata": {
        "id": "XgOcosRDTdLq",
        "colab_type": "code",
        "colab": {
          "base_uri": "https://localhost:8080/",
          "height": 651
        },
        "outputId": "52d82759-4434-448a-fbce-b03e5acb2f29"
      },
      "source": [
        "#0) Define (def) a Python Function that takes no input and prints \"Hello World\"\n",
        "\n",
        "def HelloWorld():\n",
        "\tprint(\"Hello World\")\n",
        "\n",
        "\n",
        "#1) Define a Python Function that prints a message of your choice five times in a row. Please do this by putting a loop inside your function. \n",
        "def bowie():\n",
        "\ti = 0\n",
        "\twhile i in range (5):\n",
        "\t\tprint(\"Ground control to major Tom\")\n",
        "\t\ti = i + 1\n",
        "bowie()\n",
        "#2) Modify your function from the previous question so that it takes a number as input which tells the function how many times to print the message. That is, you should make your function more flexible by replacing the fixed number 5 with an input that determines how many times the message is printed. \n",
        "\n",
        "def getx():\n",
        "  x = int (input(\" how many time do you wish to print the message: \"))\n",
        "  for i in range(x):\n",
        "    print(\"Ground control to major Tom\")\n",
        "getx()\n",
        "\n",
        "\n",
        "#(3) Define a function called square that takes in a number and returns the square of that number. Recall that the square of a number is just the number times itself. \n",
        "def square(number):\n",
        "  answer = number * number\n",
        "  return answer\n",
        "\n",
        "#If you have done number (3) correctly, the following Python code should print 9 and 25.\n",
        "\n",
        "X = square(3)\n",
        "Y= square(5)\n",
        "print(\"The answers are\", X, \"and\", Y)\n",
        "\n",
        "#4)  Define a function called bigger10 that takes in a number as input and returns whichever is bigger, the number or 10. \n",
        "def bigger10(number):\n",
        "\tif number > 10:\n",
        "\t\treturn number\n",
        "\telif number < 10:\n",
        "\t\treturn 10\n",
        "bigger10(number)\n",
        "\n",
        "#To do this problem you will need to put an if statement inside your function.\n",
        "\n",
        "#bigger10(8) returns 10  ... since 10 is the larger of 10 and 8.\n",
        "#bigger10(2) returns 10  ... since 10 is the larger of 10 and 2.\n",
        "#bigger10(15) returns 15 ... since 15 is the larger of 10 and 15.\n",
        "#bigger10(20) returns 20 ... since 20 is the larger of 10 and 20.\n",
        "\n",
        "#5)  You can make a function take two inputs by putting two inputs inside the parentheses and separating them with a comma. \n",
        "\n",
        "Define a function called bigger that takes in two numbers as input and returns the bigger of the two numbers\n",
        "\n",
        "def bigger(x, y):\n",
        "\tif x > y:\n",
        "\t\treturn x\n",
        "\telif x < y:\n",
        "\t\treturn y\n",
        "bigger(x, y)\n",
        "\n",
        "\n",
        "#bigger(10, 8) returns 10 .... since 10 is the larger of 10 and 8\n",
        "#bigger(12, 5) returns 12 ... since 12 is the larger of 12 and 5\n",
        "#bigger(3, 5) returns 5 ... since 5 is the larger of 3 and 5\n",
        "#bigger(12, 20) returns 20 ... since 20 is the larger of 12 and 20\n",
        "\n",
        "#6) Write a short program that uses the function bigger which you just defined. Your program should ask the user to enter their age, and then ask the user to enter their friend's age. Finally, the program should use the bigger function and then print out the message:\n",
        "#\"The older of the two people is **** years old\"  (Where the **** should be replaced by the age of the older person)\n",
        "x = int(input(\"How old are you?: \"))\n",
        "y = int(input(\"How old is your friend?: \"))\n",
        "\n",
        "def bigger(x, y):\n",
        "\tif x > y:\n",
        "\t\tprint(\"The older of the two people is \" + str(x) + \" years old\")\n",
        "\telif x < y:\n",
        "\t\tprint(\"The older of the two people is \" + str(y) + \" years old\")\n",
        "\n",
        "bigger(x, y)\n",
        "\n",
        "\n",
        "\n",
        "\n",
        "import random\n",
        "def play_the_game(d): \n",
        "\tc = 1 \n",
        "\tcurrent = int(input(\"Enter a new guess: \")) \n",
        "\tif current == d: \n",
        "\t\tprint(\"Congrats! Nice guess.\") \n",
        "\telse: \n",
        "\t\tprint(\"Wrong guess!\") \n",
        "\t\tc = c + 1 \n",
        "\twhile current != d: \n",
        "\t\told = current \n",
        "\t\tcurrent = int(input(\"Enter a new guess: \")) \n",
        "\t\tif current == d:\n",
        "\t\t\tprint(\"Congrats! Nice guess.\") \n",
        "\t\telif abs(d - old) > abs(d - current):\n",
        "\t\t\tprint(\"You are getting warmer, keep trying: \")\n",
        "\t\t\tc = c + 1 \n",
        "\t\telif abs(d - old) < abs(d - current): \n",
        "\t\t\tprint(\"You are getting colder, keep trying: \") \n",
        "\t\t\tc = c + 1 \n",
        "\treturn (c)\n",
        "d = random.randint(1,100) \n",
        "score = play_the_game(d)\n",
        "print(\"It took you \" + str(score) +\" attempts to find the number.\")\n"
      ],
      "execution_count": null,
      "outputs": [
        {
          "output_type": "stream",
          "text": [
            "Enter a new guess: 4\n",
            "Wrong guess!\n",
            "Enter a new guess: 1\n",
            "You are getting colder, keep trying: \n",
            "Enter a new guess: 6\n",
            "You are getting warmer, keep trying: \n",
            "Enter a new guess: 8\n",
            "You are getting warmer, keep trying: \n",
            "Enter a new guess: 10\n",
            "You are getting warmer, keep trying: \n",
            "Enter a new guess: 12\n",
            "You are getting warmer, keep trying: \n",
            "Enter a new guess: 11\n",
            "You are getting colder, keep trying: \n",
            "Enter a new guess: 1\n",
            "Enter a new guess: 3\n",
            "You are getting colder, keep trying: \n",
            "You are getting warmer, keep trying: \n",
            "Enter a new guess: 4\n",
            "You are getting warmer, keep trying: \n",
            "Enter a new guess: 15\n",
            "You are getting warmer, keep trying: \n",
            "Enter a new guess: 20\n",
            "You are getting warmer, keep trying: \n",
            "Enter a new guess: 30\n",
            "You are getting warmer, keep trying: \n",
            "Enter a new guess: 50\n",
            "Enter a new guess: 50\n",
            "Enter a new guess: 51\n",
            "You are getting colder, keep trying: \n",
            "Enter a new guess: 50\n",
            "You are getting warmer, keep trying: \n",
            "Enter a new guess: 49\n",
            "You are getting warmer, keep trying: \n",
            "Enter a new guess: 48\n",
            "You are getting warmer, keep trying: \n",
            "Enter a new guess: 40\n",
            "Congrats! Nice guess.\n",
            "It took you 18 attempts to find the number.\n"
          ],
          "name": "stdout"
        }
      ]
    },
    {
      "cell_type": "markdown",
      "metadata": {
        "id": "Dsj0vYtxTdnS",
        "colab_type": "text"
      },
      "source": [
        "**4)**  Define a function called bigger10 that takes in a number as input and returns whichever is bigger, the number or 10. \n",
        "\n",
        "To do this problem you will need to put an if statement inside your function.\n",
        "\n",
        "bigger10(8) returns 10  ... since 10 is the larger of 10 and 8.\n",
        "\n",
        "bigger10(2) returns 10  ... since 10 is the larger of 10 and 2.\n",
        "\n",
        "bigger10(15) returns 15 ... since 15 is the larger of 10 and 15.\n",
        "\n",
        "bigger10(20) returns 20 ... since 20 is the larger of 10 and 20.\n",
        "\n",
        "**5)**  You can make a function take two inputs by putting two inputs inside the parentheses and separating them with a comma. \n",
        "\n",
        "Define a function called bigger that takes in two numbers as input and returns the bigger of the two numbers\n",
        "\n",
        "bigger(10, 8) returns 10 .... since 10 is the larger of 10 and 8\n",
        "\n",
        "bigger(12, 5) returns 12 ... since 12 is the larger of 12 and 5\n",
        "\n",
        "bigger(3, 5) returns 5 ... since 5 is the larger of 3 and 5\n",
        "\n",
        "bigger(12, 20) returns 20 ... since 20 is the larger of 12 and 20\n",
        "\n",
        "**6)** Write a short program that uses the function bigger which you just defined. Your program should ask the user to enter their age, and then ask the user to enter their friend's age. Finally, the program should use the bigger function and then print out the message:\n",
        "\n",
        "\"The older of the two people is **** years old\" \n",
        "\n",
        "(Where the **** should be replaced by the age of the older person)\n",
        "\n"
      ]
    },
    {
      "cell_type": "markdown",
      "metadata": {
        "id": "ELH0N3BwT2vN",
        "colab_type": "text"
      },
      "source": [
        "-------\n",
        "\n",
        "Problems 0 through 6 are the required problems for this week, but if you are able to do Problem 7 it will help you next week\n",
        "\n",
        "**7)**  In the previous assignment, you created a guessing game. If you didn't get it working perfectly, that is fine, now is a great time to revisit it and get it working. \n",
        "\n",
        "The guessing game starts with a number and then repeatedly asks the user to guess the number. After each guess the game should tell the user whether their guess was \"too high\" or \"too low\". \n",
        "\n",
        "For this assignment, I want you to put your guessing game into a function called play_the_game. The function should take one input which is the target number that the player is trying to guess. The function should return the number of tries it takes the player to guess the number. \n",
        "\n",
        "By putting this in a function, I could write this in my main program:\n"
      ]
    },
    {
      "cell_type": "code",
      "metadata": {
        "id": "IJ8cuY5uT3Qu",
        "colab_type": "code",
        "colab": {}
      },
      "source": [
        "score = play_the_game(51)\n",
        "print(\"It took you\", score, \"tries to guess the number)"
      ],
      "execution_count": null,
      "outputs": []
    },
    {
      "cell_type": "markdown",
      "metadata": {
        "id": "0XCfjB1oUGxn",
        "colab_type": "text"
      },
      "source": [
        "Also, without changing the function at all, I could play the guessing game with a random target number"
      ]
    },
    {
      "cell_type": "code",
      "metadata": {
        "id": "jPl7D-DoUJLK",
        "colab_type": "code",
        "colab": {}
      },
      "source": [
        "import random\n",
        "target_number = random.randint(0,100)\n",
        "score = play_the_game(target_number)\n",
        "print(\"It took you\", score, \"tries to guess the number)"
      ],
      "execution_count": null,
      "outputs": []
    }
  ]
}