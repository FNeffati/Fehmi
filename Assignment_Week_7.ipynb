{
  "nbformat": 4,
  "nbformat_minor": 0,
  "metadata": {
    "colab": {
      "name": "Copy of Assignment Week 7.ipynb",
      "provenance": [],
      "include_colab_link": true
    },
    "kernelspec": {
      "name": "python3",
      "display_name": "Python 3"
    }
  },
  "cells": [
    {
      "cell_type": "markdown",
      "metadata": {
        "id": "view-in-github",
        "colab_type": "text"
      },
      "source": [
        "<a href=\"https://colab.research.google.com/github/FNeffati/Fehmi/blob/master/Assignment_Week_7.ipynb\" target=\"_parent\"><img src=\"https://colab.research.google.com/assets/colab-badge.svg\" alt=\"Open In Colab\"/></a>"
      ]
    },
    {
      "cell_type": "markdown",
      "metadata": {
        "id": "ssVL6QEUKk_L"
      },
      "source": [
        "# WEEK 7 ASSIGNMENT : Working with Strings\n",
        "\n",
        "----------------\n",
        "\n",
        "You are encouraged to create a new blank workbook for your solutions. You should then save your solutions into GitHub.\n",
        "\n",
        "**0)** Write a program that prints the following by using the VARIABLE.upper() and VARIABLE.lower() commands:\n",
        "\"Hello World\"\n",
        "\"HELLO WORLD\"\n",
        "\"hello world\"\n",
        "\n",
        "**1)** Define a python function, hasVowels(str), that takes in a string as input to the function and checks to see if the string contains any vowels. Your function should return True if the string has a vowel and False if the string does not have a vowel. \n",
        "\n",
        "If your **hasVowels** function is written correctly then the following test code should work:\n",
        " "
      ]
    },
    {
      "cell_type": "code",
      "metadata": {
        "id": "LAn9sl7AZEz4",
        "outputId": "2ce873f5-4d3a-4d5a-83d0-ced3f2bb5fa8",
        "colab": {
          "base_uri": "https://localhost:8080/",
          "height": 82
        }
      },
      "source": [
        "#Write a program that prints the following by using the VARIABLE.upper() and VARIABLE.lower() commands: \"Hello World\" \"HELLO WORLD\" \"hello world\"\n",
        "\n",
        "a = input(\"Write Hello World please.\")\n",
        "print(a)\n",
        "print(a.upper())\n",
        "print(a.lower())"
      ],
      "execution_count": null,
      "outputs": [
        {
          "output_type": "stream",
          "text": [
            "Write Hello World please.hElLo wOrLD\n",
            "hElLo wOrLD\n",
            "HELLO WORLD\n",
            "hello world\n"
          ],
          "name": "stdout"
        }
      ]
    },
    {
      "cell_type": "code",
      "metadata": {
        "id": "2udnQYLbKddY",
        "outputId": "5d3388c9-dc6c-4319-9e97-bb8e5773e614",
        "colab": {
          "base_uri": "https://localhost:8080/",
          "height": 50
        }
      },
      "source": [
        "# Define a python function, hasVowels(str), that takes in a string as input to the function and checks to see if the string contains any vowels. \n",
        "#Your function should return True if the string has a vowel and False if the string does not have a vowel.\n",
        "\n",
        "def hasVowels(x):\n",
        "  a = (\"a, e, i, o, u\")\n",
        "  if any((i in a) for i in x):\n",
        "    return True\n",
        "  else:\n",
        "    return False\n",
        "\n",
        "\n",
        "\n",
        "word = \"berry\"\n",
        "not_word = \"fghjk\"\n",
        "\n",
        "if hasVowels(word):\n",
        "  print(\"The string\", word, \"has at least one vowel\")\n",
        "else:\n",
        "  print(\"The string\", word, \"does not have any vowels\")\n",
        "\n",
        "if hasVowels(not_word):\n",
        "  print(\"The string\", not_word, \"has at least one vowel\")\n",
        "else:\n",
        "  print(\"The string\", not_word, \"does not have any vowels\")"
      ],
      "execution_count": 31,
      "outputs": [
        {
          "output_type": "stream",
          "text": [
            "The string berry has at least one vowel\n",
            "The string fghjk does not have any vowels\n"
          ],
          "name": "stdout"
        }
      ]
    },
    {
      "cell_type": "markdown",
      "metadata": {
        "id": "wMs6Ap_qMJDo"
      },
      "source": [
        "**2)** Write a Python program that makes use of your existing **hasVowels** function to do the following task. Repeatedly ask the user to enter a word with vowels from the keyboard, you should stop when the user correctly enters a word with vowels. \n",
        "\n",
        "For example, if the user first types \"fhbjk\" and then types \"mbbccv\" you should keep asking the user to try again until they finally successfully enter something that has at least one vowel."
      ]
    },
    {
      "cell_type": "markdown",
      "metadata": {
        "id": "3zKsF4QiMxTu"
      },
      "source": [
        "**3)** Define a Python function called, countVowels(str), that takes in a string as input to the function and returns the number of vowels in the string. \n",
        "\n",
        "You should have a count variable inside the function and then loop through the letters in the string and check each one to see if it is a vowel. \n",
        "\n",
        "If your **countVowels** function is written correctly then the following test code should work.\n",
        "\n"
      ]
    },
    {
      "cell_type": "code",
      "metadata": {
        "id": "JTWk3nZWNSTO",
        "outputId": "b6403f9a-c904-4031-a310-c0a161918b71",
        "colab": {
          "base_uri": "https://localhost:8080/",
          "height": 98
        }
      },
      "source": [
        "#Write a Python program that makes use of your existing hasVowels function to do the following task.\n",
        "#Repeatedly ask the user to enter a word with vowels from the keyboard, you should stop when the user correctly enters a word with vowels.\n",
        "#For example, if the user first types \"fhbjk\" and then types \"mbbccv\" you should keep asking the user to try again until they finally successfully enter something that has at least one vowel.\n",
        "\n",
        "\n",
        "a = input(\"please enter a word with vowels: \")\n",
        "while hasVowels(a) is False:\n",
        "  a = input(\"please enter another word with vowels: \")\n",
        "\n",
        "\n",
        "\n",
        "\n",
        "\n",
        "\n",
        "def countVowels(str):\n",
        "  counter = 0\n",
        "  if hasVowels(str) is True: \n",
        "    vowel = set(\"aeiouAEIOU\") \n",
        "    for alphabet in str:\n",
        "      if alphabet in vowel: \n",
        "        counter = counter + 1\n",
        "  return counter\n",
        "   \n",
        "  \n",
        "\n",
        "\n",
        "\n",
        "name1 = \"matthew\"\n",
        "name2 = \"lepinski\"\n",
        "\n",
        "count1 = countVowels(name1)\n",
        "count2 = countVowels(name2)\n",
        "\n",
        "print(name1, \"has\", count1, \"vowels in it\")\n",
        "print(name2, \"has\", count2, \"vowels in it\")"
      ],
      "execution_count": 52,
      "outputs": [
        {
          "output_type": "stream",
          "text": [
            "please enter a word with vowels: jjksks\n",
            "please enter another word with vowels: jjkkss\n",
            "please enter another word with vowels: oo\n",
            "matthew has 2 vowels in it\n",
            "lepinski has 3 vowels in it\n"
          ],
          "name": "stdout"
        }
      ]
    },
    {
      "cell_type": "markdown",
      "metadata": {
        "id": "6JyIDGJyNmJF"
      },
      "source": [
        "**4)** Write a Python program that starts with an empty list and then asks the user to enter a word. The program should add the word to the list and then ask for a new word (and add the new word to the list) and continue like this until the user enters \"stop\" or \"STOP\" or \"STop\" or any variation like \"sTOP\" or \"stoP\".\n",
        "\n",
        "Note: We did something similar to this last week, you might want to look at the Week 6 assignment or worksheet for inspiration"
      ]
    },
    {
      "cell_type": "markdown",
      "metadata": {
        "id": "QmWEmSA9OXtN"
      },
      "source": [
        "**5)** Use your **countVowels** funciton from problem 3 and your list of words from problem 4 together to figure out the total number of vowels in all of the words that the user enters. \n",
        "\n",
        "Note: Ideally, you should not count the 1 \"o\" in the \"stop\" that they typed at the end"
      ]
    },
    {
      "cell_type": "code",
      "metadata": {
        "id": "mYHZGb57uhDN",
        "outputId": "d06212a7-9f0d-4874-bc77-03fbadce3a3b",
        "colab": {
          "base_uri": "https://localhost:8080/",
          "height": 98
        }
      },
      "source": [
        "#Write a Python program that starts with an empty list and then asks the user to enter a word. \n",
        "#The program should add the word to the list and then ask for a new word (and add the new word to the list)\n",
        "#and continue like this until the user enters \"stop\" or \"STOP\" or \"STop\" or any variation like \"sTOP\" or \"stoP\".\n",
        "\n",
        "ls = []\n",
        "thing = input(\"Please enter a word (write stop when done): \")\n",
        "while thing.lower() != \"stop\":\n",
        "  ls.append(thing)\n",
        "  thing = input(\"Please enter a word: (write stop when done)\")\n",
        "\n",
        "y = 0\n",
        "\n",
        "for element in ls:\n",
        "  a = countVowels(element)\n",
        "  y += a\n",
        "  \n",
        "print(y)\n"
      ],
      "execution_count": 58,
      "outputs": [
        {
          "output_type": "stream",
          "text": [
            "Please enter a word (write stop when done): aa\n",
            "Please enter a word: (write stop when done)uu\n",
            "Please enter a word: (write stop when done)ii\n",
            "Please enter a word: (write stop when done)stop\n",
            "6\n"
          ],
          "name": "stdout"
        }
      ]
    }
  ]
}